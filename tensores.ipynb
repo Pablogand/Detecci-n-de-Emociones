{
  "nbformat": 4,
  "nbformat_minor": 0,
  "metadata": {
    "colab": {
      "provenance": []
    },
    "kernelspec": {
      "name": "python3",
      "display_name": "Python 3"
    },
    "language_info": {
      "name": "python"
    }
  },
  "cells": [
    {
      "cell_type": "code",
      "execution_count": null,
      "metadata": {
        "id": "lvwtiVI7Sj-W"
      },
      "outputs": [],
      "source": [
        "from google.colab import drive\n",
        "drive.mount('/content/gdrive')"
      ]
    },
    {
      "cell_type": "code",
      "source": [
        "import numpy as np\n",
        "\n",
        "emociones = ['angry','disgust','fear','happy','neutral','sad','surprise']\n",
        "dic_tens = {}\n",
        "\n",
        "for i in range(len(emociones)):\n",
        "  em = emociones[i]\n",
        "  tens = list(np.zeros(len(emociones)))\n",
        "\n",
        "  for j in range(len(tens)):\n",
        "    tens[j] = int(tens[j])\n",
        "\n",
        "  tens[i] = 1\n",
        "  dic_tens[em] = tens"
      ],
      "metadata": {
        "id": "zkK64uaaUZan"
      },
      "execution_count": null,
      "outputs": []
    },
    {
      "cell_type": "code",
      "source": [
        "import os\n",
        "from PIL import Image\n",
        "\n",
        "X = []\n",
        "Y = []\n",
        "\n",
        "def img_to_matr(path):\n",
        "\n",
        "  img = Image.open(path)\n",
        "  img= img.convert('L')\n",
        "  img = img.resize((70, 70))\n",
        "\n",
        "  mtr = np.array(img)\n",
        "  mtr = mtr / 255\n",
        "\n",
        "  return mtr\n",
        "\n",
        "\n",
        "\n",
        "\n",
        "main_path = '/content/gdrive/MyDrive/kaggle_faciales/carpeta_emociones'\n",
        "main_folder = os.listdir(main_path)\n",
        "for tipo in main_folder:\n",
        "  ems_path = os.path.join(main_path, tipo)\n",
        "  emociones = os.listdir(ems_path)\n",
        "  for emocion in emociones:\n",
        "    em_path = os.path.join(ems_path, emocion)\n",
        "    fotos = os.listdir(em_path)\n",
        "    for foto in fotos:\n",
        "      f_path = os.path.join(em_path, foto)\n",
        "      mtr = img_to_matr(f_path)\n",
        "      X.append(mtr)\n",
        "      Y.append(dic_tens[emocion])\n",
        "\n",
        "np.save(X,'/content/gdrive/MyDrive/kaggle_faciales/X_tensor.npy')\n",
        "np.save(Y,'/content/gdrive/MyDrive/kaggle_faciales/Y_tensor.npy')"
      ],
      "metadata": {
        "id": "6bpPLpXxRDKE"
      },
      "execution_count": null,
      "outputs": []
    }
  ]
}